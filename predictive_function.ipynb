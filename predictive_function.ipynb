{
 "cells": [
  {
   "cell_type": "code",
   "execution_count": 18,
   "metadata": {},
   "outputs": [],
   "source": [
    "import numpy as np\n",
    "import tensorflow as tf\n",
    "from tensorflow.keras.datasets import imdb\n",
    "from tensorflow.keras.preprocessing import sequence\n",
    "from tensorflow.keras.models import load_model"
   ]
  },
  {
   "cell_type": "code",
   "execution_count": 19,
   "metadata": {},
   "outputs": [],
   "source": [
    "word_to_index= imdb.get_word_index()\n",
    "reverse_word_index= {value: key for key, value in word_to_index.items()}"
   ]
  },
  {
   "cell_type": "code",
   "execution_count": 20,
   "metadata": {},
   "outputs": [
    {
     "name": "stderr",
     "output_type": "stream",
     "text": [
      "<>:1: SyntaxWarning: invalid escape sequence '\\s'\n",
      "<>:1: SyntaxWarning: invalid escape sequence '\\s'\n",
      "C:\\Users\\Rondon\\AppData\\Local\\Temp\\ipykernel_30164\\717625024.py:1: SyntaxWarning: invalid escape sequence '\\s'\n",
      "  model = load_model('pickle\\simple_rnn_best_model.h5')\n",
      "WARNING:absl:Compiled the loaded model, but the compiled metrics have yet to be built. `model.compile_metrics` will be empty until you train or evaluate the model.\n"
     ]
    },
    {
     "data": {
      "text/html": [
       "<pre style=\"white-space:pre;overflow-x:auto;line-height:normal;font-family:Menlo,'DejaVu Sans Mono',consolas,'Courier New',monospace\"><span style=\"font-weight: bold\">Model: \"sequential\"</span>\n",
       "</pre>\n"
      ],
      "text/plain": [
       "\u001b[1mModel: \"sequential\"\u001b[0m\n"
      ]
     },
     "metadata": {},
     "output_type": "display_data"
    },
    {
     "data": {
      "text/html": [
       "<pre style=\"white-space:pre;overflow-x:auto;line-height:normal;font-family:Menlo,'DejaVu Sans Mono',consolas,'Courier New',monospace\">┏━━━━━━━━━━━━━━━━━━━━━━━━━━━━━━━━━┳━━━━━━━━━━━━━━━━━━━━━━━━┳━━━━━━━━━━━━━━━┓\n",
       "┃<span style=\"font-weight: bold\"> Layer (type)                    </span>┃<span style=\"font-weight: bold\"> Output Shape           </span>┃<span style=\"font-weight: bold\">       Param # </span>┃\n",
       "┡━━━━━━━━━━━━━━━━━━━━━━━━━━━━━━━━━╇━━━━━━━━━━━━━━━━━━━━━━━━╇━━━━━━━━━━━━━━━┩\n",
       "│ embedding (<span style=\"color: #0087ff; text-decoration-color: #0087ff\">Embedding</span>)           │ (<span style=\"color: #00d7ff; text-decoration-color: #00d7ff\">None</span>, <span style=\"color: #00af00; text-decoration-color: #00af00\">500</span>, <span style=\"color: #00af00; text-decoration-color: #00af00\">128</span>)       │     <span style=\"color: #00af00; text-decoration-color: #00af00\">1,280,000</span> │\n",
       "├─────────────────────────────────┼────────────────────────┼───────────────┤\n",
       "│ simple_rnn (<span style=\"color: #0087ff; text-decoration-color: #0087ff\">SimpleRNN</span>)          │ (<span style=\"color: #00d7ff; text-decoration-color: #00d7ff\">None</span>, <span style=\"color: #00af00; text-decoration-color: #00af00\">500</span>, <span style=\"color: #00af00; text-decoration-color: #00af00\">128</span>)       │        <span style=\"color: #00af00; text-decoration-color: #00af00\">32,896</span> │\n",
       "├─────────────────────────────────┼────────────────────────┼───────────────┤\n",
       "│ simple_rnn_1 (<span style=\"color: #0087ff; text-decoration-color: #0087ff\">SimpleRNN</span>)        │ (<span style=\"color: #00d7ff; text-decoration-color: #00d7ff\">None</span>, <span style=\"color: #00af00; text-decoration-color: #00af00\">128</span>)            │        <span style=\"color: #00af00; text-decoration-color: #00af00\">32,896</span> │\n",
       "├─────────────────────────────────┼────────────────────────┼───────────────┤\n",
       "│ dense (<span style=\"color: #0087ff; text-decoration-color: #0087ff\">Dense</span>)                   │ (<span style=\"color: #00d7ff; text-decoration-color: #00d7ff\">None</span>, <span style=\"color: #00af00; text-decoration-color: #00af00\">1</span>)              │           <span style=\"color: #00af00; text-decoration-color: #00af00\">129</span> │\n",
       "└─────────────────────────────────┴────────────────────────┴───────────────┘\n",
       "</pre>\n"
      ],
      "text/plain": [
       "┏━━━━━━━━━━━━━━━━━━━━━━━━━━━━━━━━━┳━━━━━━━━━━━━━━━━━━━━━━━━┳━━━━━━━━━━━━━━━┓\n",
       "┃\u001b[1m \u001b[0m\u001b[1mLayer (type)                   \u001b[0m\u001b[1m \u001b[0m┃\u001b[1m \u001b[0m\u001b[1mOutput Shape          \u001b[0m\u001b[1m \u001b[0m┃\u001b[1m \u001b[0m\u001b[1m      Param #\u001b[0m\u001b[1m \u001b[0m┃\n",
       "┡━━━━━━━━━━━━━━━━━━━━━━━━━━━━━━━━━╇━━━━━━━━━━━━━━━━━━━━━━━━╇━━━━━━━━━━━━━━━┩\n",
       "│ embedding (\u001b[38;5;33mEmbedding\u001b[0m)           │ (\u001b[38;5;45mNone\u001b[0m, \u001b[38;5;34m500\u001b[0m, \u001b[38;5;34m128\u001b[0m)       │     \u001b[38;5;34m1,280,000\u001b[0m │\n",
       "├─────────────────────────────────┼────────────────────────┼───────────────┤\n",
       "│ simple_rnn (\u001b[38;5;33mSimpleRNN\u001b[0m)          │ (\u001b[38;5;45mNone\u001b[0m, \u001b[38;5;34m500\u001b[0m, \u001b[38;5;34m128\u001b[0m)       │        \u001b[38;5;34m32,896\u001b[0m │\n",
       "├─────────────────────────────────┼────────────────────────┼───────────────┤\n",
       "│ simple_rnn_1 (\u001b[38;5;33mSimpleRNN\u001b[0m)        │ (\u001b[38;5;45mNone\u001b[0m, \u001b[38;5;34m128\u001b[0m)            │        \u001b[38;5;34m32,896\u001b[0m │\n",
       "├─────────────────────────────────┼────────────────────────┼───────────────┤\n",
       "│ dense (\u001b[38;5;33mDense\u001b[0m)                   │ (\u001b[38;5;45mNone\u001b[0m, \u001b[38;5;34m1\u001b[0m)              │           \u001b[38;5;34m129\u001b[0m │\n",
       "└─────────────────────────────────┴────────────────────────┴───────────────┘\n"
      ]
     },
     "metadata": {},
     "output_type": "display_data"
    },
    {
     "data": {
      "text/html": [
       "<pre style=\"white-space:pre;overflow-x:auto;line-height:normal;font-family:Menlo,'DejaVu Sans Mono',consolas,'Courier New',monospace\"><span style=\"font-weight: bold\"> Total params: </span><span style=\"color: #00af00; text-decoration-color: #00af00\">1,345,923</span> (5.13 MB)\n",
       "</pre>\n"
      ],
      "text/plain": [
       "\u001b[1m Total params: \u001b[0m\u001b[38;5;34m1,345,923\u001b[0m (5.13 MB)\n"
      ]
     },
     "metadata": {},
     "output_type": "display_data"
    },
    {
     "data": {
      "text/html": [
       "<pre style=\"white-space:pre;overflow-x:auto;line-height:normal;font-family:Menlo,'DejaVu Sans Mono',consolas,'Courier New',monospace\"><span style=\"font-weight: bold\"> Trainable params: </span><span style=\"color: #00af00; text-decoration-color: #00af00\">1,345,921</span> (5.13 MB)\n",
       "</pre>\n"
      ],
      "text/plain": [
       "\u001b[1m Trainable params: \u001b[0m\u001b[38;5;34m1,345,921\u001b[0m (5.13 MB)\n"
      ]
     },
     "metadata": {},
     "output_type": "display_data"
    },
    {
     "data": {
      "text/html": [
       "<pre style=\"white-space:pre;overflow-x:auto;line-height:normal;font-family:Menlo,'DejaVu Sans Mono',consolas,'Courier New',monospace\"><span style=\"font-weight: bold\"> Non-trainable params: </span><span style=\"color: #00af00; text-decoration-color: #00af00\">0</span> (0.00 B)\n",
       "</pre>\n"
      ],
      "text/plain": [
       "\u001b[1m Non-trainable params: \u001b[0m\u001b[38;5;34m0\u001b[0m (0.00 B)\n"
      ]
     },
     "metadata": {},
     "output_type": "display_data"
    },
    {
     "data": {
      "text/html": [
       "<pre style=\"white-space:pre;overflow-x:auto;line-height:normal;font-family:Menlo,'DejaVu Sans Mono',consolas,'Courier New',monospace\"><span style=\"font-weight: bold\"> Optimizer params: </span><span style=\"color: #00af00; text-decoration-color: #00af00\">2</span> (12.00 B)\n",
       "</pre>\n"
      ],
      "text/plain": [
       "\u001b[1m Optimizer params: \u001b[0m\u001b[38;5;34m2\u001b[0m (12.00 B)\n"
      ]
     },
     "metadata": {},
     "output_type": "display_data"
    }
   ],
   "source": [
    "model = load_model('pickle\\simple_rnn_best_model.h5')\n",
    "model.summary()"
   ]
  },
  {
   "cell_type": "code",
   "execution_count": 21,
   "metadata": {},
   "outputs": [
    {
     "data": {
      "text/plain": [
       "[array([[ 0.03113127, -0.05517722,  0.00903709, ...,  0.02276902,\n",
       "         -0.01742078,  0.05016988],\n",
       "        [-0.00949253, -0.01643268, -0.00638177, ..., -0.03210164,\n",
       "          0.01201123, -0.05587407],\n",
       "        [-0.0423912 ,  0.00121362, -0.0022111 , ...,  0.0288466 ,\n",
       "          0.02017921, -0.02983032],\n",
       "        ...,\n",
       "        [ 0.04696506,  0.0019487 , -0.043566  , ..., -0.01707223,\n",
       "          0.03753803,  0.01260874],\n",
       "        [ 0.01961702,  0.01274722, -0.0285542 , ..., -0.00374495,\n",
       "         -0.02384978,  0.01380479],\n",
       "        [ 0.03024007, -0.04493069, -0.0356141 , ..., -0.01375491,\n",
       "          0.00796494,  0.04121973]], dtype=float32),\n",
       " array([[-0.07268715, -0.09826351, -0.03943864, ..., -0.01092824,\n",
       "         -0.02028292,  0.01856508],\n",
       "        [ 0.12449361,  0.09987377, -0.00704953, ...,  0.12413868,\n",
       "         -0.01704118, -0.13683173],\n",
       "        [-0.04382917, -0.16845162,  0.03657102, ...,  0.08904737,\n",
       "          0.02140939,  0.13897063],\n",
       "        ...,\n",
       "        [-0.03789884,  0.13574205,  0.10818942, ..., -0.02486561,\n",
       "          0.06263189,  0.01389163],\n",
       "        [-0.10216984, -0.02935247,  0.12214437, ...,  0.01534879,\n",
       "          0.04038842,  0.08764625],\n",
       "        [-0.14667651, -0.14909397,  0.08929219, ..., -0.14839302,\n",
       "          0.06157547,  0.1297838 ]], dtype=float32),\n",
       " array([[ 0.03985559,  0.00826736, -0.21893154, ..., -0.06368113,\n",
       "         -0.12367384,  0.09210663],\n",
       "        [ 0.11000221,  0.02711107,  0.05707919, ..., -0.28412583,\n",
       "          0.0339938 , -0.09310912],\n",
       "        [-0.00822538,  0.01123905,  0.23328297, ...,  0.0169564 ,\n",
       "         -0.10938741,  0.12140779],\n",
       "        ...,\n",
       "        [-0.03471376, -0.04157887, -0.05256981, ..., -0.06341809,\n",
       "          0.10744793,  0.02902429],\n",
       "        [-0.08366659,  0.11227125, -0.04502319, ..., -0.04869996,\n",
       "          0.0345128 ,  0.00232686],\n",
       "        [ 0.11675271,  0.15475643,  0.00699339, ..., -0.09560079,\n",
       "         -0.04872322, -0.01761668]], dtype=float32),\n",
       " array([-0.00780538, -0.00420566,  0.01720603,  0.00879285, -0.01164443,\n",
       "         0.01135152,  0.00629307, -0.01506943, -0.00261921, -0.01118891,\n",
       "        -0.01826439, -0.02357273,  0.0098634 , -0.00474382, -0.01040318,\n",
       "        -0.00514429,  0.012057  ,  0.00976357, -0.0032436 , -0.01945163,\n",
       "        -0.00812095, -0.00023001, -0.00024876,  0.00545725, -0.00309152,\n",
       "         0.0060341 , -0.01322818,  0.00909561, -0.01301327,  0.00054793,\n",
       "        -0.00014159,  0.01677105, -0.01663655, -0.00631829, -0.00138698,\n",
       "         0.01528791,  0.00474998, -0.01571454,  0.0152268 , -0.01298748,\n",
       "         0.00982996, -0.0136309 , -0.00529459, -0.00325599, -0.00669243,\n",
       "        -0.01835122, -0.00787827,  0.00361228, -0.00312455, -0.02285699,\n",
       "        -0.01326278,  0.01856431,  0.02172804,  0.00786806,  0.010216  ,\n",
       "         0.01253493, -0.02291065,  0.00899309,  0.01061234,  0.02086351,\n",
       "         0.01937636,  0.01839083,  0.00902525,  0.00767663,  0.01403289,\n",
       "         0.0002067 ,  0.00381355, -0.01327922, -0.00941845, -0.00038593,\n",
       "         0.00648159, -0.00519693,  0.00551342, -0.02133152,  0.00118469,\n",
       "         0.00470393,  0.01382565,  0.0160245 ,  0.00245099,  0.02355893,\n",
       "        -0.00162171,  0.00740402,  0.01959798, -0.01053098, -0.00550479,\n",
       "        -0.00704019, -0.01397389, -0.00528373,  0.00471515, -0.00866622,\n",
       "         0.00605798, -0.01211491, -0.00573313,  0.00258496, -0.00778898,\n",
       "        -0.01257586, -0.01449835, -0.01481525, -0.00713297, -0.01500697,\n",
       "         0.01759416,  0.00559195, -0.00612784,  0.00736259,  0.00777263,\n",
       "        -0.01378236,  0.007705  ,  0.01077081, -0.01390343,  0.00163824,\n",
       "         0.00425771,  0.00220688,  0.02816543, -0.0049913 , -0.00766276,\n",
       "         0.01043874,  0.00241573,  0.00353676,  0.01935263,  0.00070289,\n",
       "         0.00222827, -0.01742009,  0.01854408, -0.00672096, -0.01223596,\n",
       "        -0.00900594,  0.01580874, -0.00698766], dtype=float32),\n",
       " array([[ 0.13134035, -0.13712569,  0.01698679, ..., -0.19803737,\n",
       "          0.1827825 ,  0.1501396 ],\n",
       "        [ 0.08787289, -0.13202061,  0.12549348, ..., -0.02138497,\n",
       "          0.09012443, -0.06873149],\n",
       "        [ 0.02495797,  0.0910898 ,  0.05033223, ...,  0.05174149,\n",
       "         -0.05440189, -0.09516512],\n",
       "        ...,\n",
       "        [ 0.13305643, -0.10605777,  0.12787285, ...,  0.07628623,\n",
       "         -0.01979482,  0.10170869],\n",
       "        [-0.03024191, -0.13412678,  0.10698843, ...,  0.05183854,\n",
       "         -0.13513586, -0.09421863],\n",
       "        [-0.0234963 , -0.03475879, -0.04058006, ...,  0.1173007 ,\n",
       "         -0.10781013,  0.00043694]], dtype=float32),\n",
       " array([[-0.0792633 ,  0.07730959,  0.08695234, ...,  0.07955103,\n",
       "         -0.03336062, -0.00683649],\n",
       "        [ 0.07887732,  0.05359261,  0.08395148, ...,  0.17660914,\n",
       "         -0.08789556,  0.02444563],\n",
       "        [-0.04278656,  0.02853056, -0.00898688, ..., -0.1252427 ,\n",
       "         -0.2326022 ,  0.10034683],\n",
       "        ...,\n",
       "        [ 0.08302401, -0.00050837, -0.04138895, ..., -0.03476442,\n",
       "         -0.09489572,  0.18582599],\n",
       "        [ 0.0250173 , -0.14315392, -0.08444531, ..., -0.07452733,\n",
       "          0.03749497, -0.09637319],\n",
       "        [ 0.00413029,  0.05324853,  0.2571047 , ..., -0.09686351,\n",
       "         -0.17856929, -0.06438268]], dtype=float32),\n",
       " array([-1.50186606e-02, -1.28902646e-03, -1.49460090e-02,  2.61528092e-03,\n",
       "        -1.54797104e-03, -6.06507389e-03, -2.69849971e-03,  3.88959795e-03,\n",
       "        -1.72361219e-03,  8.05622153e-03,  9.37048625e-03,  5.04947128e-03,\n",
       "        -7.79656321e-03,  3.10062547e-03, -1.18564465e-03,  1.23120556e-02,\n",
       "        -1.11393062e-02, -1.42593042e-03,  7.76528940e-03,  2.69494019e-03,\n",
       "        -6.96738530e-03,  9.23273969e-04,  1.56127859e-03,  7.22271064e-03,\n",
       "        -2.28220597e-03,  5.43858903e-03,  3.82362120e-03, -4.57102840e-04,\n",
       "        -4.49364074e-03, -2.07684701e-03, -1.90306306e-02,  7.35756825e-04,\n",
       "         7.93435425e-03, -2.90481909e-03, -6.36479212e-03,  3.29501345e-03,\n",
       "        -1.37625044e-04,  9.12930191e-05,  1.02743497e-02, -7.88370334e-03,\n",
       "         1.00023635e-02, -1.75270229e-03,  1.79383403e-03, -2.27187457e-03,\n",
       "         3.83241451e-03,  7.16591300e-03,  2.94933841e-03,  1.92067493e-03,\n",
       "        -4.70166327e-03, -5.48639568e-03,  7.43952952e-03, -1.34139007e-03,\n",
       "        -2.54231319e-03,  9.02424101e-04,  1.05446510e-04,  4.15611343e-04,\n",
       "        -1.40611678e-02,  4.29065572e-03, -1.22586126e-03,  1.31077534e-02,\n",
       "         8.59872252e-03, -5.28106093e-03,  1.60854962e-02, -2.49813916e-03,\n",
       "        -1.83321964e-02,  2.65156222e-03, -2.61353143e-03,  8.91887525e-04,\n",
       "         6.01806678e-03, -6.23376807e-03, -2.43139733e-03, -1.18340356e-02,\n",
       "        -8.87402985e-03,  7.21174656e-05, -9.36133508e-03, -1.90554431e-03,\n",
       "         3.36281932e-03,  5.22554573e-03,  1.10147409e-02, -3.64772487e-03,\n",
       "        -1.20271917e-03,  5.82693657e-03,  2.95241713e-04,  2.33428227e-03,\n",
       "         4.48376592e-03, -8.65336694e-03, -1.23607824e-02, -2.59267539e-03,\n",
       "        -3.53585230e-03,  1.28534529e-02, -3.61793232e-03,  9.97005217e-03,\n",
       "         3.37975379e-03, -5.50014619e-03,  7.36822700e-03, -1.54073825e-02,\n",
       "         8.43168516e-03, -4.70455224e-03, -4.08364274e-03, -9.62517806e-04,\n",
       "        -4.43753961e-05, -3.94696556e-03, -8.77078250e-03,  2.58898013e-04,\n",
       "         2.72710761e-03, -6.59648271e-04, -9.55620315e-03, -2.56330386e-04,\n",
       "         1.01762936e-02,  2.27414118e-03,  1.04589416e-02,  1.19108586e-02,\n",
       "        -6.14450360e-03, -6.95701735e-03,  6.72551058e-03, -9.29149275e-04,\n",
       "         2.06087762e-03, -7.09867943e-03,  3.70637327e-03,  2.28482019e-03,\n",
       "        -5.54653211e-03,  5.02913771e-03, -3.37296422e-03,  7.14816758e-03,\n",
       "        -4.24528820e-03, -8.63729604e-03,  3.61634442e-03,  1.84664933e-03],\n",
       "       dtype=float32),\n",
       " array([[ 1.55257499e-02],\n",
       "        [-1.21134065e-01],\n",
       "        [ 1.17890365e-01],\n",
       "        [-4.91394401e-02],\n",
       "        [ 1.38441652e-01],\n",
       "        [-8.91940370e-02],\n",
       "        [-1.64885983e-01],\n",
       "        [-8.25522244e-02],\n",
       "        [-1.10459782e-01],\n",
       "        [-7.97274858e-02],\n",
       "        [-1.40667573e-01],\n",
       "        [-1.24822319e-01],\n",
       "        [ 2.11745471e-01],\n",
       "        [ 7.96245337e-02],\n",
       "        [ 1.72295734e-01],\n",
       "        [-2.05110218e-02],\n",
       "        [ 6.08843379e-02],\n",
       "        [-1.99769512e-02],\n",
       "        [-1.36927709e-01],\n",
       "        [-1.96587786e-01],\n",
       "        [ 2.05313995e-01],\n",
       "        [-2.92655732e-03],\n",
       "        [ 8.41941014e-02],\n",
       "        [-1.23635076e-01],\n",
       "        [ 5.03855310e-02],\n",
       "        [ 8.69928151e-02],\n",
       "        [-1.80493817e-01],\n",
       "        [ 8.26313198e-02],\n",
       "        [ 1.39574274e-01],\n",
       "        [ 7.51828849e-02],\n",
       "        [ 1.80826172e-01],\n",
       "        [ 2.07903117e-01],\n",
       "        [-1.87855363e-01],\n",
       "        [ 8.45403448e-02],\n",
       "        [-2.04218999e-02],\n",
       "        [-1.68982819e-01],\n",
       "        [ 1.83233798e-01],\n",
       "        [ 1.61294654e-01],\n",
       "        [-1.49927691e-01],\n",
       "        [-8.78159553e-02],\n",
       "        [ 9.91741866e-02],\n",
       "        [ 9.56593975e-02],\n",
       "        [ 1.68048307e-01],\n",
       "        [-6.93258420e-02],\n",
       "        [-1.39892444e-01],\n",
       "        [ 1.85354700e-04],\n",
       "        [-9.98148322e-02],\n",
       "        [-1.54548556e-01],\n",
       "        [ 1.59213468e-01],\n",
       "        [ 2.96557453e-02],\n",
       "        [-1.18915573e-01],\n",
       "        [-3.64197697e-03],\n",
       "        [ 1.95894063e-01],\n",
       "        [-4.89316843e-02],\n",
       "        [-6.50569722e-02],\n",
       "        [-1.88625410e-01],\n",
       "        [ 6.38838857e-02],\n",
       "        [-1.92506388e-01],\n",
       "        [-3.78900468e-02],\n",
       "        [-1.69328123e-01],\n",
       "        [ 6.52350336e-02],\n",
       "        [-6.64727390e-02],\n",
       "        [ 1.37427568e-01],\n",
       "        [-8.67870525e-02],\n",
       "        [ 1.37260526e-01],\n",
       "        [ 5.06542474e-02],\n",
       "        [ 1.44012108e-01],\n",
       "        [ 1.24034531e-01],\n",
       "        [-1.79744497e-01],\n",
       "        [ 5.52974008e-02],\n",
       "        [-1.24348305e-01],\n",
       "        [-1.35727197e-01],\n",
       "        [ 1.12969197e-01],\n",
       "        [-1.15291946e-01],\n",
       "        [-1.48791671e-01],\n",
       "        [-9.15590748e-02],\n",
       "        [-7.22987130e-02],\n",
       "        [ 2.71204021e-02],\n",
       "        [-5.90272881e-02],\n",
       "        [ 8.77994522e-02],\n",
       "        [ 1.05696574e-01],\n",
       "        [-4.94770482e-02],\n",
       "        [-5.07480726e-02],\n",
       "        [-6.85215071e-02],\n",
       "        [-2.62838881e-02],\n",
       "        [-4.11372520e-02],\n",
       "        [-2.02041399e-02],\n",
       "        [-3.13844644e-02],\n",
       "        [ 1.88691154e-01],\n",
       "        [ 1.49481937e-01],\n",
       "        [ 1.12564377e-01],\n",
       "        [ 3.80399451e-02],\n",
       "        [ 1.49717346e-01],\n",
       "        [ 2.89354846e-02],\n",
       "        [-1.37061566e-01],\n",
       "        [ 1.13816693e-01],\n",
       "        [ 1.00112110e-02],\n",
       "        [-1.04740895e-01],\n",
       "        [-5.01566976e-02],\n",
       "        [-1.14559516e-01],\n",
       "        [ 1.39460653e-01],\n",
       "        [ 1.70366302e-01],\n",
       "        [ 8.97980332e-02],\n",
       "        [-2.04573885e-01],\n",
       "        [ 1.81279540e-01],\n",
       "        [ 1.29679024e-01],\n",
       "        [ 6.52516559e-02],\n",
       "        [ 1.44517958e-01],\n",
       "        [-1.85514897e-01],\n",
       "        [ 2.32357122e-02],\n",
       "        [-1.76591232e-01],\n",
       "        [-1.13537073e-01],\n",
       "        [-1.09038092e-01],\n",
       "        [ 1.94373846e-01],\n",
       "        [ 1.73165068e-01],\n",
       "        [ 1.59205958e-01],\n",
       "        [ 1.05457358e-01],\n",
       "        [ 1.50321320e-01],\n",
       "        [-1.89844027e-01],\n",
       "        [ 9.48094651e-02],\n",
       "        [ 1.68507814e-01],\n",
       "        [-2.15845987e-01],\n",
       "        [ 7.60330707e-02],\n",
       "        [ 1.57073632e-01],\n",
       "        [ 1.66625693e-01],\n",
       "        [-1.46416023e-01],\n",
       "        [ 1.55636162e-01],\n",
       "        [ 1.21992826e-01]], dtype=float32),\n",
       " array([-0.00500196], dtype=float32)]"
      ]
     },
     "execution_count": 21,
     "metadata": {},
     "output_type": "execute_result"
    }
   ],
   "source": [
    "model.get_weights()"
   ]
  },
  {
   "cell_type": "code",
   "execution_count": 22,
   "metadata": {},
   "outputs": [],
   "source": [
    "def decode_review(encoded_review):\n",
    "    return ' '.join([reverse_word_index.get(i -3, '?') for i in encoded_review])\n",
    "\n",
    "def preprocess_text(text):\n",
    "    words = text.lower().split()\n",
    "    encoded_review = []\n",
    "    for word in words:\n",
    "        idx = word_to_index.get(word, 2) + 3\n",
    "        if idx >= 10000:\n",
    "            idx = 9999\n",
    "        encoded_review.append(idx)\n",
    "    padded_review = sequence.pad_sequences([encoded_review], maxlen=500)\n",
    "    return padded_review"
   ]
  },
  {
   "cell_type": "code",
   "execution_count": 23,
   "metadata": {},
   "outputs": [],
   "source": [
    "def predict_sentiment(review):\n",
    "    preprocessed_input = preprocess_text(review)\n",
    "\n",
    "    pred = model.predict(preprocessed_input)\n",
    "\n",
    "    sentiment = 'Positive' if pred[0][0] > 0.5 else 'Negative'\n",
    "\n",
    "    return sentiment, pred[0][0]\n"
   ]
  },
  {
   "cell_type": "code",
   "execution_count": 38,
   "metadata": {},
   "outputs": [],
   "source": [
    "# example\n",
    "\n",
    "example_review = \"Good show. THE LAST OF US was indeed a great series. After hearing many raves and good things from people that I know, I finally decided to give it a chance. Like the game, it is definitely worth your time. Well made, compelling and great characters with real chemistry made this series a fun watch, a slower build to some pretty intense scenes. While it did have periods of time that it moved more slowly, it certainly never felt boring. Pedro Pascal as Joe Miller and Bella Ramsey as Ellie Williams made this a great show, and the chemistry they develop feels natural and heart warming.\"\n",
    "example_review_2 = \"There was so much potential here. Although Zombie movies and tv shows have been overplayed in the past 20-30 years, this show has some legs under it. It got me hooked in the first episode and I was really excited for the rest.Unfortunately, even though there were some saving grace episodes or moments here and there, I ended season one feeling let down. Pedro Pascal does a phenomenal job, and is the one reason I kept watching. His character slowly develops over time and you really care about him.I know a lot of people loved her, but it was hard for me to watch Bella Ramsey. She acted a couple of parts very well (especially episode 8) but other than when she is yelling and screaming and supposed to be annoying, the times when she was supposed to be likable fell flat and I had a hard time getting through those episodes.\""
   ]
  },
  {
   "cell_type": "code",
   "execution_count": 39,
   "metadata": {},
   "outputs": [
    {
     "name": "stdout",
     "output_type": "stream",
     "text": [
      "\u001b[1m1/1\u001b[0m \u001b[32m━━━━━━━━━━━━━━━━━━━━\u001b[0m\u001b[37m\u001b[0m \u001b[1m0s\u001b[0m 29ms/step\n",
      "\u001b[1m1/1\u001b[0m \u001b[32m━━━━━━━━━━━━━━━━━━━━\u001b[0m\u001b[37m\u001b[0m \u001b[1m0s\u001b[0m 29ms/step\n"
     ]
    }
   ],
   "source": [
    "sent_1, pred_1 = predict_sentiment(example_review)\n",
    "sent_2, pred_2 = predict_sentiment(example_review_2)"
   ]
  },
  {
   "cell_type": "code",
   "execution_count": 40,
   "metadata": {},
   "outputs": [
    {
     "name": "stdout",
     "output_type": "stream",
     "text": [
      "Review: Good show. THE LAST OF US was indeed a great series. After hearing many raves and good things from people that I know, I finally decided to give it a chance. Like the game, it is definitely worth your time. Well made, compelling and great characters with real chemistry made this series a fun watch, a slower build to some pretty intense scenes. While it did have periods of time that it moved more slowly, it certainly never felt boring. Pedro Pascal as Joe Miller and Bella Ramsey as Ellie Williams made this a great show, and the chemistry they develop feels natural and heart warming.\n",
      "Sentiment: Positive\n",
      "Prediction score: 0.98)\n",
      "Review: There was so much potential here. Although Zombie movies and tv shows have been overplayed in the past 20-30 years, this show has some legs under it. It got me hooked in the first episode and I was really excited for the rest.Unfortunately, even though there were some saving grace episodes or moments here and there, I ended season one feeling let down. Pedro Pascal does a phenomenal job, and is the one reason I kept watching. His character slowly develops over time and you really care about him.I know a lot of people loved her, but it was hard for me to watch Bella Ramsey. She acted a couple of parts very well (especially episode 8) but other than when she is yelling and screaming and supposed to be annoying, the times when she was supposed to be likable fell flat and I had a hard time getting through those episodes.\n",
      "Sentiment: Negative\n",
      "Prediction score: 0.04\n"
     ]
    }
   ],
   "source": [
    "print(f'Review: {example_review}')\n",
    "print(f'Sentiment: {sent_1}') \n",
    "print(f'Prediction score: {pred_1:.2f})')\n",
    "\n",
    "print(f'Review: {example_review_2}')\n",
    "print(f'Sentiment: {sent_2}')\n",
    "print(f'Prediction score: {pred_2:.2f}')\n",
    "\n",
    "\n",
    "\n",
    "\n"
   ]
  },
  {
   "cell_type": "markdown",
   "metadata": {},
   "source": [
    "To evaluate the model's performance on **real-world, unseen data**, two public reviews about _The Last of Us_ series (Season 2) were selected from the [IMDB website](https://www.imdb.com/pt/title/tt3581920/reviews/?ref_=tt_ov_ql_2). The first reviewer rated the series **9.0**, while the second gave it a **4.0**, providing a useful contrast for sentiment analysis.\n",
    "\n",
    "The model successfully identified the sentiment in both cases. The first review was correctly classified as **positive**, with a **prediction score of 0.98**, while the second review — more critical in tone — was classified as **negative**, with a **prediction score of 0.04**. These results suggest that the model is able to generalize well to public, informal reviews and correctly interpret the **emotional tone** conveyed through natural language."
   ]
  },
  {
   "cell_type": "code",
   "execution_count": null,
   "metadata": {},
   "outputs": [],
   "source": []
  }
 ],
 "metadata": {
  "kernelspec": {
   "display_name": ".venv",
   "language": "python",
   "name": "python3"
  },
  "language_info": {
   "codemirror_mode": {
    "name": "ipython",
    "version": 3
   },
   "file_extension": ".py",
   "mimetype": "text/x-python",
   "name": "python",
   "nbconvert_exporter": "python",
   "pygments_lexer": "ipython3",
   "version": "3.12.0"
  }
 },
 "nbformat": 4,
 "nbformat_minor": 2
}
